{
 "nbformat": 4,
 "nbformat_minor": 0,
 "metadata": {
  "colab": {
   "provenance": []
  },
  "kernelspec": {
   "name": "python3",
   "display_name": "Python 3"
  },
  "language_info": {
   "name": "python"
  }
 },
 "cells": [
  {
   "cell_type": "markdown",
   "source": [
    "# Lab 10: Linear programming\n",
    "\n",
    "In this lab, we will use Linear programming to solve some problems.\n",
    "Differently from the previous lab, in this one, you will not ask to implement some part of the linear programming paradigm.\n",
    "Instead, you will ask to translate the problems from the \"natural\" language to the standard (slack) form.\n",
    "Moreover, for exercises 1 and 2 consider plotting the solution space and highlighting the different components. \n",
    "\n",
    "In the following (hidden) block, the utilities used for running the experiments are implemented."
   ],
   "metadata": {
    "id": "1LFQ4RnHpEMu"
   }
  },
  {
   "cell_type": "code",
   "execution_count": null,
   "outputs": [],
   "source": [
    "from scipy.optimize import linprog, OptimizeResult\n",
    "import numpy as np\n",
    "import matplotlib.pyplot as plt"
   ],
   "metadata": {
    "collapsed": false
   }
  },
  {
   "cell_type": "markdown",
   "source": [
    "# Ex. 0\n",
    "\n",
    "A large factory makes tables and chairs.\n",
    "Each table returns a profit of 200 EUR and each chair a profit of 100 EUR.\n",
    "Each table takes 1 unit of metal and 3 units of wood and each chair takes 2 units\n",
    "of metal and 1 unit of wood. The factory has 600 units of metal and 900 units of wood.\n",
    "\n",
    "\n",
    "---\n",
    "\n",
    "Slack form:\n",
    "\n",
    "maximize  $2x_1 + x_2$\n",
    "\n",
    "subject to \n",
    "\n",
    "- $3x_1 + x_2 ≤ 9$\n",
    "- $x_1 + 2x_2 ≤ 6$\n",
    "- $x_1, x_2 ≥ 0$"
   ],
   "metadata": {
    "id": "9ibF3zoHZhty"
   }
  },
  {
   "cell_type": "code",
   "source": [
    "c = np.array([2, 1])\n",
    "G = np.array([[3, 1],\n",
    "              [1, 2]])\n",
    "h = np.array([9, 6])\n",
    "r: OptimizeResult = linprog(\n",
    "    c=-c,\n",
    "    A_ub=G,\n",
    "    b_ub=h,\n",
    "    bounds=[(0, None), (0, None)],\n",
    "    method='simplex'\n",
    ")\n",
    "\n",
    "print(r)"
   ],
   "metadata": {
    "id": "kpN2O0UVZiZd"
   },
   "execution_count": null,
   "outputs": []
  },
  {
   "cell_type": "code",
   "execution_count": null,
   "outputs": [],
   "source": [
    "fig, (ax1, ax2) = plt.subplots(1, 2)\n",
    "\n",
    "\n",
    "def y1(x: float) -> float:\n",
    "    return 9 - 3 * x\n",
    "\n",
    "\n",
    "def y2(x: float) -> float:\n",
    "    return (6 - x) / 2\n",
    "\n",
    "\n",
    "x, y = np.meshgrid(np.linspace(0, 20, 5000), np.linspace(0, 20, 5000))\n",
    "\n",
    "feasible = (\n",
    "        (3 * x + y <= 9) &\n",
    "        (x + 2 * y <= 6) &\n",
    "        (x >= 0) &\n",
    "        (y >= 0)\n",
    ")\n",
    "\n",
    "for ax in [ax1, ax2]:\n",
    "    ax.imshow(\n",
    "        feasible.astype(int),\n",
    "        extent=(x.min(), x.max(), y.min(), y.max()),\n",
    "        origin=\"lower\",\n",
    "        cmap=\"Greys\",\n",
    "        alpha=0.2\n",
    "    )\n",
    "\n",
    "    xs = np.asarray([-100, 100])\n",
    "\n",
    "    ax.plot(xs, y1(xs), c='C1', label='$3x + y \\leq 9$')\n",
    "    ax.plot(xs, y2(xs), c='C2', label='$x + 2y \\leq 6$')\n",
    "    ax.axline(r.x, slope=-2, c='C4', linestyle='dotted', label='$2x + y$')\n",
    "    ax.axvline(0)\n",
    "    ax.axhline(0)\n",
    "\n",
    "    ax.scatter(r.x[0], r.x[1], marker=(5, 2), c='r', alpha=0.8, s=100)\n",
    "\n",
    "ax1.set(\n",
    "    xlim=[-5, 10],\n",
    "    ylim=[-5, 10]\n",
    ")\n",
    "\n",
    "ax2.set(\n",
    "    xlim=[-2, 5],\n",
    "    ylim=[-2, 5]\n",
    ")\n",
    "\n",
    "handles, labels = ax1.get_legend_handles_labels()\n",
    "fig.legend(handles, labels, loc='lower center')\n",
    "\n",
    "fig.savefig(\"0.svg\")"
   ],
   "metadata": {
    "collapsed": false
   }
  },
  {
   "cell_type": "markdown",
   "source": [
    "# Ex. 1\n",
    "A company makes two products (X and Y) using two machines (A and B).\n",
    "Each unit of X that is produced requires 50 minutes processing time on machine A and 30 minutes processing time on machine B.\n",
    "Each unit of Y that is produced requires 24 minutes processing time on machine A and 33 minutes processing time on machine B.\n",
    "\n",
    "At the start of the current week there are 30 units of X and 90 units of Y in stock.\n",
    "Available processing time on machine A is forecast to be 40 hours and on machine B is forecast to be 35 hours.\n",
    "\n",
    "The demand for X in the current week is forecast to be 75 units and for Y is forecast to be 95 units.\n",
    "Company policy is to maximise the combined sum of the units of X and the units of Y in stock at the end of the week.\n",
    "\n",
    "---\n",
    "\n",
    "Slack form:\n",
    "\n",
    "maximize  $#X + #Y$\n",
    "\n",
    "subject to\n",
    "\n",
    "- $#X (50m) + #Y (24m) \\leq 40h$\n",
    "- $#X (30m) + #Y (33m) \\leq 35h$\n",
    "- $#X > 75 - 30$\n",
    "- $#Y > 95 - 90$\n",
    "\n",
    "the result is the number of units produced, from which I have to subtract the number of units sold"
   ],
   "metadata": {
    "id": "qt7sD4i35yVu"
   }
  },
  {
   "cell_type": "code",
   "execution_count": null,
   "outputs": [],
   "source": [
    "c = np.array([1, 1])\n",
    "G = np.array([[50, 24],\n",
    "              [30, 33]])\n",
    "h = np.array([40, 35]) * 60\n",
    "r: OptimizeResult = linprog(\n",
    "    c=-c,\n",
    "    A_ub=G,\n",
    "    b_ub=h,\n",
    "    bounds=[(75 - 30, None), (95 - 90, None)],\n",
    "    method='simplex'\n",
    ")\n",
    "print(r)"
   ],
   "metadata": {
    "collapsed": false
   }
  },
  {
   "cell_type": "code",
   "execution_count": null,
   "outputs": [],
   "source": [
    "fig, (ax1, ax2) = plt.subplots(1, 2)\n",
    "\n",
    "\n",
    "def y1(x: float) -> float:\n",
    "    return (40 * 60 - 50 * x) / 24\n",
    "\n",
    "\n",
    "def y2(x: float) -> float:\n",
    "    return (35 * 60 - 30 * x) / 33\n",
    "\n",
    "\n",
    "x, y = np.meshgrid(np.linspace(44, 46, 5000), np.linspace(4, 8, 5000))\n",
    "\n",
    "feasible = (\n",
    "        (50 * x + 24 * y <= 40 * 60) &\n",
    "        (30 * x + 33 * y <= 35 * 60) &\n",
    "        (x > 75 - 30) &\n",
    "        (y > 95 - 90)\n",
    ")\n",
    "\n",
    "for ax in [ax1, ax2]:\n",
    "    ax.imshow(\n",
    "        feasible.astype(int),\n",
    "        extent=(x.min(), x.max(), y.min(), y.max()),\n",
    "        origin=\"lower\",\n",
    "        cmap=\"Greys\",\n",
    "        alpha=0.2\n",
    "    )\n",
    "\n",
    "    xs = np.asarray([-100, 100])\n",
    "\n",
    "    ax.plot(xs, y1(xs), c='C1', label='$50x + 24y \\leq 40 * 60$')\n",
    "    ax.plot(xs, y2(xs), c='C2', label='$30x + 33y \\leq 35 * 60$')\n",
    "    ax.axline(r.x, slope=-1, c='C4', linestyle='dotted', label='$x + y$')\n",
    "    ax.axvline(75 - 30)\n",
    "    ax.axhline(95 - 90)\n",
    "\n",
    "    ax.scatter(r.x[0], r.x[1], marker=(5, 2), c='r', alpha=0.8, s=100)\n",
    "\n",
    "ax1.set(\n",
    "    xlim=[25, 70],\n",
    "    ylim=[0, 45]\n",
    ")\n",
    "\n",
    "ax2.set(\n",
    "    xlim=[43.5, 47.5],\n",
    "    ylim=[4, 8]\n",
    ")\n",
    "\n",
    "handles, labels = ax1.get_legend_handles_labels()\n",
    "fig.legend(handles, labels, loc='lower center')\n",
    "\n",
    "fig.savefig(\"1.svg\")"
   ],
   "metadata": {
    "collapsed": false
   }
  },
  {
   "cell_type": "markdown",
   "source": [
    "# Ex. 2\n",
    "A factory manufactures chairs and tables, each requiring the use of three operations: Cutting, Assembly, and Finishing.\n",
    "The first operation can be used at most 40 hours;\n",
    "the second at most 42 hours;\n",
    "and the third at most 25 hours.\n",
    "\n",
    "A chair requires 1 hour of cutting, 2 hours of assembly, and 1 hour of finishing;\n",
    "a table needs 2 hours of cutting, 1 hour of assembly, and 1 hour of finishing.\n",
    "\n",
    "If the profit is 20 per unit for a chair and 30 for a table, how many units of each should be manufactured to maximize profit?\n",
    "\n",
    "---\n",
    "\n",
    "Slack form:\n",
    "\n",
    "maximize $20 #C + 30 #T$\n",
    "\n",
    "subject to:\n",
    "\n",
    "- $#C(1h) + #T(2h) \\leq 40h$ cutting\n",
    "- $#C(2h) + #T(1h) \\leq 42h$ assembling\n",
    "- $#C(1h) + #T(1h) \\leq 25h$ finishing\n",
    "- $#C, #T \\geq 0$"
   ],
   "metadata": {
    "id": "sW-e_a4IWgGj"
   }
  },
  {
   "cell_type": "code",
   "execution_count": null,
   "outputs": [],
   "source": [
    "c = np.array([20, 30])\n",
    "G = np.array([[1, 2],\n",
    "              [2, 1],\n",
    "              [1, 1]])\n",
    "h = np.array([40, 42, 25])\n",
    "r: OptimizeResult = linprog(\n",
    "    c=-c,\n",
    "    A_ub=G,\n",
    "    b_ub=h,\n",
    "    bounds=[(0, None), (0, None)],\n",
    "    method='simplex'\n",
    ")\n",
    "print(r)"
   ],
   "metadata": {
    "collapsed": false
   }
  },
  {
   "cell_type": "code",
   "execution_count": null,
   "outputs": [],
   "source": [
    "fig, (ax1, ax2) = plt.subplots(1, 2)\n",
    "\n",
    "\n",
    "def y1(x: float) -> float:\n",
    "    return (40 - x) / 2\n",
    "\n",
    "\n",
    "def y2(x: float) -> float:\n",
    "    return 42 - 2 * x\n",
    "\n",
    "\n",
    "def y3(x: float) -> float:\n",
    "    return 25 - x\n",
    "\n",
    "\n",
    "x, y = np.meshgrid(np.linspace(0, 25, 5000), np.linspace(0, 25, 5000))\n",
    "\n",
    "feasible = (\n",
    "        (x + 2 * y <= 40) &\n",
    "        (2 * x + y <= 42) &\n",
    "        (x + y <= 25) &\n",
    "        (x >= 0) &\n",
    "        (y >= 0)\n",
    ")\n",
    "\n",
    "for ax in [ax1, ax2]:\n",
    "    ax.imshow(\n",
    "        feasible.astype(int),\n",
    "        extent=(x.min(), x.max(), y.min(), y.max()),\n",
    "        origin=\"lower\",\n",
    "        cmap=\"Greys\",\n",
    "        alpha=0.2\n",
    "    )\n",
    "\n",
    "    xs = np.asarray([-100, 100])\n",
    "\n",
    "    ax.plot(xs, y1(xs), c='C1', label='$x + 2y \\leq 40$')\n",
    "    ax.plot(xs, y2(xs), c='C2', label='$2x + y \\leq 42$')\n",
    "    ax.plot(xs, y3(xs), c='C3', label='$x + y \\leq 25$')\n",
    "    ax.axline(r.x, slope=-2 / 3, c='C4', linestyle='dotted', label='$20x + 30y$')\n",
    "    ax.axvline(0)\n",
    "    ax.axhline(0)\n",
    "\n",
    "    ax.scatter(r.x[0], r.x[1], marker=(5, 2), c='r', alpha=0.8, s=100)\n",
    "\n",
    "ax1.set(\n",
    "    xlim=[-5 - 20, 45 + 10],\n",
    "    ylim=[-5 - 20, 45 + 10]\n",
    ")\n",
    "\n",
    "ax2.set(\n",
    "    xlim=[-5, 25],\n",
    "    ylim=[-5, 25]\n",
    ")\n",
    "\n",
    "handles, labels = ax1.get_legend_handles_labels()\n",
    "fig.legend(handles, labels, loc='lower center')\n",
    "\n",
    "fig.savefig(\"2.svg\")"
   ],
   "metadata": {
    "collapsed": false
   }
  },
  {
   "cell_type": "markdown",
   "source": [
    "# Ex. 3\n",
    "We now consider a problem posed and solved by [Hu18].\n",
    "\n",
    "A mutual fund has USD 100'000 to be invested over a three year horizon.\n",
    "\n",
    "Three investment options are available:\n",
    "\n",
    "Annuity:\n",
    "the fund can pay a same amount of new capital at the beginning of each of three years and receive a payoff of 130% of total capital invested at the end of the third year.\n",
    "Once the mutual fund decides to invest in this annuity, it has to keep investing in all subsequent years in the three year horizon.\n",
    "\n",
    "Bank account:\n",
    "the fund can deposit any amount into a bank at the beginning of each year and receive its capital plus 6% interest at the end of that year.\n",
    "In addition, the mutual fund is permitted to borrow no more than USD 20,000 at the beginning of each year and is asked to pay back the amount borrowed plus 6% interest at the end of the year.\n",
    "The mutual fund can choose whether to deposit or borrow at the beginning of each year.\n",
    "\n",
    "Corporate bond:\n",
    "At the beginning of the second year, a corporate bond becomes available.\n",
    "The fund can buy an amount that is no more than USD 50,000 of this bond at the beginning of the second year and at the end of the third year receive a payout of 130% of the amount invested in the bond.\n",
    "\n",
    "The mutual fund’s objective is to maximize total payout that it owns at the end of the third year.\n",
    "\n",
    "- Hu18 Y. Hu, Y. & Guo. Operations research. Tsinghua University Press, 5th edition, 2018."
   ],
   "metadata": {
    "id": "MrUONKQLfyYu"
   }
  },
  {
   "cell_type": "code",
   "execution_count": null,
   "outputs": [],
   "source": [
    "c = np.array([1.3 * 3, 0, 0, 1.06, 1.30])\n",
    "G = np.array([[1,     1,     0, 0, 0],\n",
    "              [1, -1.06,     1, 0, 1],\n",
    "              [1,     0, -1.06, 1, 0],\n",
    "\n",
    "              [-1,     -1,      0,  0,  0],\n",
    "              [-1,   1.06,     -1,  0, -1],\n",
    "              [-1,     -0,   1.06, -1,  0],\n",
    "              ])\n",
    "h = np.array([100e3, 0, 0, -100e3, 0, 0])\n",
    "r: OptimizeResult = linprog(\n",
    "    c=-c,\n",
    "    A_ub=G,\n",
    "    b_ub=h,\n",
    "    bounds=[(0, None), (-20e3, None), (-20e3, None), (-20e3, None), (0, 50e3)],\n",
    "    method='simplex'\n",
    ")"
   ],
   "metadata": {
    "collapsed": false
   }
  }
 ]
}
