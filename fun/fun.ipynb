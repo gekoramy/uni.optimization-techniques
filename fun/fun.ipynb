{
  "nbformat": 4,
  "nbformat_minor": 0,
  "metadata": {
    "colab": {
      "provenance": [],
      "collapsed_sections": []
    },
    "kernelspec": {
      "name": "python3",
      "display_name": "Python 3"
    },
    "language_info": {
      "name": "python"
    }
  },
  "cells": [
    {
      "cell_type": "code",
      "source": [
        "from pathlib import Path\n",
        "from google.colab import drive\n",
        "\n",
        "drive.mount('/content/drive')\n",
        "\n",
        "def folder(f: str):\n",
        "  fp = \"/content/drive/MyDrive/optimization-techniques/\" + f\n",
        "  Path(fp).mkdir(parents = True, exist_ok = True)\n",
        "  return fp"
      ],
      "metadata": {
        "id": "y5o0DW8J2eKj"
      },
      "execution_count": null,
      "outputs": []
    },
    {
      "cell_type": "markdown",
      "source": [
        "# Benchmark functions\n",
        "The complete list of functions available can be found at: https://gitlab.com/luca.baronti/python_benchmark_functions\n",
        "\n",
        "\n"
      ],
      "metadata": {
        "id": "eK4fQ2q-Xcx1"
      }
    },
    {
      "cell_type": "code",
      "execution_count": null,
      "metadata": {
        "id": "1GMzkncVZcW5"
      },
      "outputs": [],
      "source": [
        "!pip3 install benchmark_functions\n",
        "import benchmark_functions as bf\n",
        "import numpy as np\n",
        "from scipy.optimize import minimize, rosen\n",
        "from matplotlib import pyplot as plt\n",
        "\n",
        "def graph(f, resolution=50, file = None):\n",
        "  bounds_lower, bounds_upper = f.suggested_bounds()\n",
        "\n",
        "  x = np.linspace(bounds_lower[0], bounds_upper[0], resolution)\n",
        "  y = np.linspace(bounds_lower[1], bounds_upper[1], resolution)\n",
        "  X, Y = np.meshgrid(x, y)\n",
        "  Z = np.asarray([[f((X[i][j],Y[i][j])) for j in range(len(X[i]))] for i in range(len(X))])\n",
        "\n",
        "  fig = plt.figure()\n",
        "  fig.canvas.set_window_title('Benchmark Function: ' + f._name)\n",
        "  fig.suptitle(f._name)\n",
        "\n",
        "  ax = plt.axes(projection='3d')\n",
        "\n",
        "  ax.plot_surface(X, Y, Z, rstride=1, cstride=1, cmap='viridis', edgecolor='none')\n",
        "\n",
        "  ax.view_init(60, 35)\n",
        "  ax.set_zlabel('z')\n",
        "  ax.set_xlabel('x')\n",
        "  ax.set_ylabel('y')\n",
        "\n",
        "  if file is None:\n",
        "    plt.show()\n",
        "  else:\n",
        "    plt.savefig(file, dpi=400)"
      ]
    },
    {
      "cell_type": "code",
      "source": [
        "drive = folder(\"fun/\")\n",
        "\n",
        "for (name, fn) in [\n",
        "    (\"Hypershpere\", bf.Hypersphere()), \n",
        "    (\"DeJong3\", bf.DeJong3()), \n",
        "    (\"PichenyGoldsteinAndPrice\", bf.PichenyGoldsteinAndPrice()),\n",
        "    (\"Ackley\", bf.Ackley())\n",
        "    ]:\n",
        "  graph(fn, file = drive + name + \".svg\")"
      ],
      "metadata": {
        "id": "joMIhZQzFDsM"
      },
      "execution_count": null,
      "outputs": []
    }
  ]
}
