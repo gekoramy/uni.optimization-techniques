{
  "nbformat": 4,
  "nbformat_minor": 0,
  "metadata": {
    "colab": {
      "provenance": []
    },
    "kernelspec": {
      "name": "python3",
      "display_name": "Python 3"
    },
    "language_info": {
      "name": "python"
    }
  },
  "cells": [
    {
      "cell_type": "markdown",
      "source": [
        "# Lab 11: Integer Linear programming and Dinamic Programming \n",
        "In this lab, we will see Integer Linear programming and Dynamic programming (DP). \n",
        "\n",
        "For the Integer Linear Programming, you will proceed as in the previous lab, writing some models and solving the problem. For Dynamic Programming, we will ask you to solve the knapsack problem with DP. "
      ],
      "metadata": {
        "id": "1LFQ4RnHpEMu"
      }
    },
    {
      "cell_type": "code",
      "source": [
        "# !pip install -q condacolab\n",
        "# import condacolab\n",
        "# \n",
        "# condacolab.install()\n",
        "# !conda install pyscipopt"
      ],
      "metadata": {
        "id": "HbFs_V7eGmL3"
      },
      "execution_count": null,
      "outputs": []
    },
    {
      "cell_type": "code",
      "source": [
        "# !pip install scikit-optimize\n",
        "# !pip install treed"
      ],
      "metadata": {
        "id": "AovXN_mMQYQL"
      },
      "execution_count": null,
      "outputs": []
    },
    {
      "cell_type": "code",
      "source": [
        "import pyscipopt\n",
        "from pyscipopt import Model, quicksum\n",
        "import seaborn as sns\n",
        "import matplotlib.pyplot as plt\n",
        "import numpy as np\n",
        "from pyscipopt import Model, Eventhdlr, SCIP_EVENTTYPE\n",
        "import math\n",
        "from treed import TreeD\n",
        "\n",
        "\n",
        "class LPstatEventhdlr(Eventhdlr):\n",
        "    \"\"\"PySCIPOpt Event handler to collect data on LP events.\"\"\"\n",
        "\n",
        "    transvars = {}\n",
        "\n",
        "    def collectNodeInfo(self, firstlp=True):\n",
        "        objval = self.model.getSolObjVal(None)\n",
        "\n",
        "        LPsol = {}\n",
        "        if self.transvars == {}:\n",
        "            self.transvars = self.model.getVars(transformed=True)\n",
        "        for var in self.transvars:\n",
        "            solval = self.model.getSolVal(None, var)\n",
        "            LPsol[var.name] = self.model.getSolVal(None, var)\n",
        "\n",
        "        # skip duplicate nodes\n",
        "        # if self.nodelist and LPsol == self.nodelist[-1].get(\"LPsol\"):\n",
        "        #     return\n",
        "        node = self.model.getCurrentNode()\n",
        "        if node.getNumber() != 1:\n",
        "            parentnode = node.getParent()\n",
        "            parent = parentnode.getNumber()\n",
        "        else:\n",
        "            parent = 1\n",
        "        depth = node.getDepth()\n",
        "        age = self.model.getNNodes()\n",
        "        condition = math.log10(self.model.getCondition())\n",
        "        iters = self.model.lpiGetIterations()\n",
        "        pb = self.model.getPrimalbound()\n",
        "        if pb >= self.model.infinity():\n",
        "            pb = None\n",
        "\n",
        "        nodedict = {\n",
        "            \"number\": node.getNumber(),\n",
        "            \"LPsol\": LPsol,\n",
        "            \"objval\": objval,\n",
        "            \"parent\": parent,\n",
        "            \"age\": age,\n",
        "            \"depth\": depth,\n",
        "            \"first\": firstlp,\n",
        "            \"condition\": condition,\n",
        "            \"iterations\": iters,\n",
        "            # \"variables\": self.model.getNVars(),\n",
        "            # \"constraints\": self.model.getNConss(),\n",
        "            \"rows\": self.model.getNLPRows(),\n",
        "            \"primalbound\": pb,\n",
        "            \"dualbound\": self.model.getDualbound(),\n",
        "            \"time\": self.model.getSolvingTime()\n",
        "        }\n",
        "\n",
        "        self.nodelist.append(nodedict)\n",
        "\n",
        "    def eventexec(self, event):\n",
        "\n",
        "        if event.getType() == SCIP_EVENTTYPE.FIRSTLPSOLVED:\n",
        "            self.collectNodeInfo(firstlp=True)\n",
        "        elif event.getType() == SCIP_EVENTTYPE.LPSOLVED:\n",
        "            self.collectNodeInfo(firstlp=False)\n",
        "        else:\n",
        "            print(\"unexpected event:\" + str(event))\n",
        "        return {}\n",
        "\n",
        "    def eventinit(self):\n",
        "        self.model.catchEvent(SCIP_EVENTTYPE.LPEVENT, self)\n",
        "\n",
        "\n",
        "def convertSolToDict(sol):\n",
        "    ssol = str(sol)\n",
        "    items = ssol[1:-1].split(\",\")\n",
        "    res = {}\n",
        "    for item in items:\n",
        "        k = str(item.split(\":\")[0])\n",
        "        v = float(item.split(\":\")[1])\n",
        "        res[k] = v\n",
        "    \n",
        "    return res\n",
        "\n",
        "\n",
        "def solve_model(model):\n",
        "    model.setPresolve(pyscipopt.SCIP_PARAMSETTING.OFF)\n",
        "    model.setHeuristics(pyscipopt.SCIP_PARAMSETTING.OFF)\n",
        "    model.disablePropagation()\n",
        "    #model.redirectOutput()\n",
        "    nodelist = []\n",
        "    eventhdlr = LPstatEventhdlr()\n",
        "    eventhdlr.nodelist = nodelist\n",
        "    model.includeEventhdlr(\n",
        "        eventhdlr, \"LPstat\", \"generate LP statistics after every LP event\"\n",
        "    )\n",
        "    model.optimize()\n",
        "    frontier_history = []\n",
        "    for nd in nodelist:\n",
        "        frontier_history.append((convertSolToDict(nd['LPsol']), nd['objval']))\n",
        "    best_sol = model.getBestSol()\n",
        "    best_val = model.getObjVal()\n",
        "    return convertSolToDict(best_sol), best_val, frontier_history"
      ],
      "metadata": {
        "id": "ekCKO56IKo7B"
      },
      "execution_count": null,
      "outputs": []
    },
    {
      "cell_type": "markdown",
      "source": [
        "# Ex. 0\n",
        "\n",
        "This is an example to show how the Library works\n",
        "\n",
        "---\n",
        "\n",
        "Slack form:\n",
        "\n",
        "minimize  $2x_1 + x_2 − 2x_3$\n",
        "\n",
        "subject to \n",
        "\n",
        "- $0.7x_1 + 0.5x_2 +x_3 \\geq 1.8$\n",
        "- $x_i \\in [0,1]\\ \\forall i$"
      ],
      "metadata": {
        "id": "9ibF3zoHZhty"
      }
    },
    {
      "cell_type": "code",
      "source": [
        "model = Model(\"\")\n",
        "v = [model.addVar(vtype='i', name=str(i), lb=0, ub=1) for i in range(3)]\n",
        "c = [0.7, 0.5, 1]\n",
        "model.addCons(quicksum(c[i] * v[i] for i in range(3)) >= 1.8)\n",
        "sum([i for i in range(3)])\n",
        "model.setObjective(2 * v[0] + v[1] - 2 * v[2], \"minimize\")\n",
        "best_sol, best_val, partial_frontier_history = solve_model(model)\n",
        "\n",
        "print(best_sol)\n",
        "print(best_val)\n",
        "print(partial_frontier_history)"
      ],
      "metadata": {
        "id": "kpN2O0UVZiZd"
      },
      "execution_count": null,
      "outputs": []
    },
    {
      "cell_type": "markdown",
      "source": [
        "# Ex. The N-queens Problem | ILP\n",
        "\n",
        "The N queens puzzle is the problem of placing $N$ chess queens on an $N \\times N (N \\geq 4)$ chessboard so that no two queens threaten each other; thus, a solution requires that no two queens share the same row, column, or diagonal. Try different values of $N$ and shows how the problem complexity increases.\n",
        "\n",
        "---\n",
        "\n",
        "Foreach cell in the chessboard a variable\n",
        "\n",
        "Each cell can be either 0 or 1, where\n",
        "- 0 means the cell is empty\n",
        "- 1 means the cell contains a queen\n",
        "\n",
        "We can encode the constrains on rows, columns and diagonals as a disequation, where the sum of the corresponding cells must be less or equal to 1\n",
        "\n",
        "less or equal because if it is true that there must be a queen foreach row and column, the same does not apply for the diagonals\n",
        "\n",
        "The problem becomes a maximization problem on the sum of every cells\n"
      ],
      "metadata": {
        "id": "qt7sD4i35yVu"
      }
    },
    {
      "cell_type": "code",
      "source": [
        "import numpy as np\n",
        "\n",
        "n = 10\n",
        "\n",
        "chessboard = np.asarray([\n",
        "    np.asarray([ \n",
        "        f'({r} {c})'\n",
        "        for c\n",
        "        in range(n)\n",
        "        ])\n",
        "    for r\n",
        "    in range(n)\n",
        "    ])\n",
        "\n",
        "print(chessboard)\n",
        "\n",
        "print('-' * 90)\n",
        "\n",
        "for r in range(0, n):\n",
        "  print(chessboard[r])\n",
        "\n",
        "print('-' * 90)\n",
        "\n",
        "for c in range(0, n):\n",
        "  print(chessboard[:, c])\n",
        "\n",
        "print('-' * 90)\n",
        "\n",
        "for d in range(-n + 1, n):\n",
        "  print(chessboard.diagonal(d))\n",
        "\n",
        "print('-' * 90)\n",
        "\n",
        "for d in range(-n + 1, n):\n",
        "  print(np.fliplr(chessboard).diagonal(d))\n",
        "\n",
        "print('-' * 90)\n",
        "\n",
        "print(np.reshape(chessboard, -1)) "
      ],
      "metadata": {
        "id": "Cu7EBeXWWtOZ"
      },
      "execution_count": null,
      "outputs": []
    },
    {
      "cell_type": "code",
      "source": [
        "n = 10\n",
        "\n",
        "model = Model('')\n",
        "chessboard = np.asarray([\n",
        "    np.asarray([\n",
        "        model.addVar(vtype='i', name=f'({r} {c})', lb=0, ub=1) for c in range(n)\n",
        "        ])\n",
        "    for r\n",
        "    in range(n)\n",
        "    ])\n",
        "\n",
        "print(chessboard)\n",
        "\n",
        "# rows\n",
        "for r in range(n):\n",
        "  model.addCons(quicksum(cell for cell in chessboard[r]) <= 1)\n",
        "\n",
        "# columns\n",
        "for c in range(n):\n",
        "  model.addCons(quicksum(cell for cell in chessboard[c]) <= 1)\n",
        "\n",
        "# diagonals top left - bottom right\n",
        "for d in range(-n + 1, n):\n",
        "  model.addCons(quicksum(cell for cell in chessboard.diagonal(d)) <= 1)\n",
        "\n",
        "\n",
        "# diagonals top right - bottom left\n",
        "for d in range(-n + 1, n):\n",
        "  model.addCons(quicksum(cell for cell in np.fliplr(chessboard).diagonal(d)) <= 1)\n",
        "\n",
        "model.setObjective(quicksum(cell for cell in np.reshape(chessboard, -1)), \"maximize\")\n",
        "best_sol, best_val, partial_frontier_history = solve_model(model)\n",
        "\n",
        "print(best_sol)\n",
        "print(best_val)\n",
        "print(partial_frontier_history)"
      ],
      "metadata": {
        "id": "-0ECdwgzcb4T"
      },
      "execution_count": null,
      "outputs": []
    },
    {
      "cell_type": "markdown",
      "source": [
        "# Traveling salesman problem | ILP\n",
        "\n",
        "The goal of the TSP is to find the shortest Hamiltonian cycle (a cycle that visits each node only once) on a graph of N nodes. Solve the ILP problem and visualize a solution."
      ],
      "metadata": {
        "id": "IW3z1UkyRuyG"
      }
    },
    {
      "cell_type": "code",
      "source": [
        "# edge cost\n",
        "# (a, b) cost\n",
        "# find the cycle\n",
        "# minimize the sum of cycle\n",
        "# visit each node at most one -> each node can use at least one edge\n",
        "\n",
        "\n"
      ],
      "metadata": {
        "id": "mqr1Q7-Bnbv2"
      },
      "execution_count": null,
      "outputs": []
    },
    {
      "cell_type": "markdown",
      "source": [
        "# Ex. KNAPSACK PROBLEM | DP\n",
        "\n",
        "Solve the Knapsack problem using DP.\n",
        "You can use the Class from lab 5.\n",
        "\n",
        "Run the solution multiple time, and change the total capacity and the number of objects and shows how the number of sub-problems changes."
      ],
      "metadata": {
        "id": "sW-e_a4IWgGj"
      }
    },
    {
      "cell_type": "code",
      "source": [
        "import numpy as np\n",
        "from matplotlib import pyplot as plt\n",
        "\n",
        "\n",
        "class Knapsack_0_1:\n",
        "\n",
        "    def __init__(self):\n",
        "        self._items = [\n",
        "            []\n",
        "        ]\n",
        "        self._BAG_CAPACITY = 10\n",
        "        self.history = []\n",
        "        self.values = []\n",
        "\n",
        "    def _get_value(self, solution):\n",
        "        cur_cap = self._BAG_CAPACITY\n",
        "        cur_val = 0\n",
        "        for i, v in enumerate(solution):\n",
        "            if v == 1:\n",
        "                cur_val += self._items[i]['value']\n",
        "                cur_cap -= self._items[i]['volume']\n",
        "            if cur_cap < 0:\n",
        "                return 0\n",
        "        return -cur_val\n",
        "\n",
        "    def __call__(self, solution):\n",
        "        value = self._get_value(solution)\n",
        "        self.history.append(solution)\n",
        "        self.values.append(value)\n",
        "        return value\n",
        "\n",
        "    def trend(self):\n",
        "        plt.figure()\n",
        "        plt.plot(self.values)\n",
        "        plt.show()\n"
      ],
      "metadata": {
        "id": "7cg3YZiLxVWw"
      },
      "execution_count": null,
      "outputs": []
    }
  ]
}