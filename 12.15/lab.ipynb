{
 "nbformat": 4,
 "nbformat_minor": 0,
 "metadata": {
  "colab": {
   "provenance": []
  },
  "kernelspec": {
   "name": "python3",
   "display_name": "Python 3"
  },
  "language_info": {
   "name": "python"
  }
 },
 "cells": [
  {
   "cell_type": "markdown",
   "source": [
    "# Lab 12: Robust Optimization \n",
    "In this lab, we will see some applications of robust optimization, namely a modified version of the Knapsack 0/1 problem, and the portfolio optimization problem.\n",
    "\n",
    "Your job in this lab is to implement the missing functions, and study how different functions lead to different outcomes from both the point of view of the objective value and the probability of violating the constraints of the problem.\n",
    "\n",
    "The examples are taken from https://xiongpengnus.github.io/rsome/ro_rsome, using the RSOME library for robust optimization."
   ],
   "metadata": {
    "id": "bzBaTl57V5mi"
   }
  },
  {
   "cell_type": "code",
   "execution_count": null,
   "outputs": [],
   "source": [
    "!pip install rsome\n",
    "!pip install gurobipy"
   ],
   "metadata": {
    "collapsed": false
   }
  },
  {
   "cell_type": "code",
   "execution_count": null,
   "outputs": [],
   "source": [
    "import rsome as rs\n",
    "import numpy as np\n",
    "import numpy.random as rd\n",
    "import matplotlib.pyplot as plt"
   ],
   "metadata": {
    "collapsed": false
   }
  },
  {
   "cell_type": "markdown",
   "source": [
    "# The Knapsack 0/1 Problem\n",
    "In this exercise, we will solve the Knapsack problem (seen in the previous labs), slightly modified in order to have uncertainties about the volumes of the items.\n",
    "\n",
    "The uncertainty about the volumes is not the same for all the items. They are defined by $\\delta$, defined as a fraction of the size of the volumes of the items.\n",
    "\n",
    "In this exercise, you are asked to implement the definition of the uncertainty set in order to have both an **ellipsoidal** uncertainty set and a **finite** uncertainty set.\n",
    "\n",
    "Try to implement different sizes for the ellipsoid and different interval for the finite set and compare the objective values and the probability of violating the constraints with the different setups."
   ],
   "metadata": {
    "id": "_yxxHw83JSGn"
   }
  },
  {
   "cell_type": "code",
   "execution_count": null,
   "metadata": {
    "id": "2cuwpwo5PYDY"
   },
   "outputs": [],
   "source": [
    "items = [\n",
    "    {'name': 'apple', 'value': 1, 'volume': 2},\n",
    "    {'name': 'pear', 'value': 2, 'volume': 2},\n",
    "    {'name': 'banana', 'value': 2, 'volume': 2},\n",
    "    {'name': 'watermelon', 'value': 5, 'volume': 10},\n",
    "    {'name': 'orange', 'value': 3, 'volume': 2},\n",
    "    {'name': 'avocado', 'value': 3, 'volume': 2},\n",
    "    {'name': 'blueberry', 'value': 3, 'volume': 1},\n",
    "    {'name': 'coconut', 'value': 4, 'volume': 3},\n",
    "    {'name': 'cherry', 'value': 2, 'volume': 1},\n",
    "    {'name': 'apricot', 'value': 1, 'volume': 1},\n",
    "]\n",
    "\n",
    "N = len(items)\n",
    "b = 10\n",
    "\n",
    "c = np.array([i['value'] for i in items]).flatten()  # profit coefficients\n",
    "w = np.array([i['volume'] for i in items]).flatten()  # profit coefficients\n",
    "\n",
    "delta = 0.2 * w  # maximum deviations\n",
    "\n",
    "\n",
    "def robust(get_uncertainty_set):\n",
    "    \"\"\"\n",
    "    The function robust implements the robust optimization model,\n",
    "    given the budget of uncertainty r\n",
    "    \"\"\"\n",
    "\n",
    "    model = rs.ro.Model('robust')\n",
    "    x = model.dvar(N, vtype='B')  # Boolean variable x (0: leave, 1: keep)\n",
    "    z = model.rvar(N)  # Random variable\n",
    "\n",
    "    # Uncertainty set\n",
    "    z_set = get_uncertainty_set(z)\n",
    "    model.max(c @ x)  # Maximize the value of the knapsack (i.e., the dot product between the values and x)\n",
    "\n",
    "    # Add constraint: the maximum (uncertain) volume is smaller than the budget\n",
    "    model.st(((w + z * delta) @ x <= b).forall(z_set))\n",
    "\n",
    "    # Solve\n",
    "    model.solve(rs.grb_solver, display=False)\n",
    "\n",
    "    return model.get(), x.get()  # Return the optimal objective and solution\n",
    "\n",
    "\n",
    "def sim(x_sol, zs):\n",
    "    \"\"\"\n",
    "    The function sim is for calculating the probability of violation\n",
    "    via simulations.\n",
    "        x_sol: solution of the Knapsack problem\n",
    "        zs: random sample of the random variable z\n",
    "    \"\"\"\n",
    "\n",
    "    ws = w + zs * delta  # random samples of uncertain weights\n",
    "\n",
    "    return (ws @ x_sol > b).mean()"
   ]
  },
  {
   "cell_type": "code",
   "source": [
    "def get_uncertainty_set(z):\n",
    "    \"\"\"\n",
    "    Define an uncertainty set. See the following sources:\n",
    "    - Ellipsoidal: https://xiongpengnus.github.io/rsome/ro_rsome#section2.2\n",
    "    - Finite Uncertainty Set\n",
    "    \"\"\"\n",
    "    z_set = (\n",
    "        # ...                   # Implement this part, try different possibilities\n",
    "    )\n",
    "    return z_set"
   ],
   "metadata": {
    "id": "het652F-Q62W"
   },
   "execution_count": null,
   "outputs": []
  },
  {
   "cell_type": "code",
   "source": [
    "num_samples = 20000\n",
    "zs = np.random.uniform(-1, 1, (num_samples, N))  # Generate random samples for z\n",
    "\n",
    "objective_value, solution = robust(get_uncertainty_set)\n",
    "prob_violation = sim(solution, zs)\n",
    "\n",
    "print(f'Content of the knapsack:')\n",
    "for i, value in enumerate(solution):\n",
    "    if value:\n",
    "        print(f'\\t{items[i][\"name\"]}')\n",
    "print(f'Total value: {objective_value}. Probability of violation: {prob_violation}')"
   ],
   "metadata": {
    "id": "oAKSU-uKrGks",
    "colab": {
     "base_uri": "https://localhost:8080/"
    },
    "outputId": "40bd3b56-9344-42c8-e4c4-50c40ce48238"
   },
   "execution_count": null,
   "outputs": []
  },
  {
   "cell_type": "markdown",
   "source": [
    "# Robust Portfolio Optimization\n",
    "In this problem, we want to build a portfolio (e.g., of stocks), by using robust approaches.\n",
    "\n",
    "To be more specific, in this problem we have a set of fictionary stocks, each of which has different means and deviations for the returns.\n",
    "\n",
    "Your job here is to implement a **box** uncertainty set to robustly optimize the portfolio.\n",
    "Try different values for the box in order to study how the uncertainty affects the objective value of and the number of different stocks chosen."
   ],
   "metadata": {
    "id": "h4GB-KCkfEXB"
   }
  },
  {
   "cell_type": "code",
   "source": [
    "import pprint\n",
    "\n",
    "n = 10  # number of stocks\n",
    "\n",
    "stocks = {\n",
    "    f'Company {chr(65 + i)}': {'Mean': np.around(np.random.uniform(0.9, 1.1), 2),\n",
    "                               'Deviation': np.around(np.random.uniform(0.1, 0.3), 2)}\n",
    "    for i in range(n)\n",
    "}\n",
    "\n",
    "print('Stocks available')\n",
    "pprint.pprint(stocks)\n",
    "\n",
    "\n",
    "def portfolio_optimization(get_uncertainty_set):\n",
    "    p = np.array([stocks[s]['Mean'] for s in stocks])  # mean returns\n",
    "    delta = np.array([stocks[s]['Deviation'] for s in stocks])  # deviations of returns\n",
    "    Gamma = 5  # budget of uncertainty\n",
    "\n",
    "    model = rs.ro.Model()\n",
    "    x = model.dvar(n)  # fractions of investment\n",
    "    z = model.rvar(n)  # random variables\n",
    "\n",
    "    z_set = get_uncertainty_set(z)\n",
    "\n",
    "    model.maxmin(\n",
    "        (p + delta * z) @ x,  # the max-min objective\n",
    "        z_set\n",
    "    )\n",
    "\n",
    "    model.st(sum(x) == 1)  # summation of x is one\n",
    "    model.st(x >= 0)  # x is non-negative\n",
    "\n",
    "    model.solve(rs.grb_solver)  # solve the model by Gurobi\n",
    "    return model.get(), x.get()"
   ],
   "metadata": {
    "colab": {
     "base_uri": "https://localhost:8080/"
    },
    "id": "-iVxdGRMfvDQ",
    "outputId": "6dbb7290-59d7-430d-d298-77a302083398"
   },
   "execution_count": null,
   "outputs": []
  },
  {
   "cell_type": "code",
   "source": [
    "def get_uncertainty_set_po(z):\n",
    "    \"\"\" \n",
    "    Return a box uncertainty set \n",
    "    (see https://xiongpengnus.github.io/rsome/example_ro_inv).\n",
    "\n",
    "    Try different values for the size of the box.\n",
    "    \"\"\"\n",
    "    z_set = (\n",
    "    )\n",
    "    return z_set"
   ],
   "metadata": {
    "id": "RJ8bqKTC1DNv"
   },
   "execution_count": null,
   "outputs": []
  },
  {
   "cell_type": "code",
   "source": [
    "import matplotlib.pyplot as plt\n",
    "\n",
    "obj_val, x_sol = portfolio_optimization(get_uncertainty_set_po)\n",
    "\n",
    "plt.bar(\n",
    "    [s.split(' ')[1] for s in stocks],  # Stock names\n",
    "    x_sol,  # Fraction of the portfolio\n",
    ")\n",
    "plt.xlabel('Stocks')\n",
    "plt.ylabel('Fraction of investment')\n",
    "plt.show()\n",
    "print('Objective value: {0:0.4f}'.format(obj_val))"
   ],
   "metadata": {
    "id": "_ZDISaJIfvjf"
   },
   "execution_count": null,
   "outputs": []
  }
 ]
}
