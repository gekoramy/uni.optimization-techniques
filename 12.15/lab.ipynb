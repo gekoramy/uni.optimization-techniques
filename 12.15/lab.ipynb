{
 "nbformat": 4,
 "nbformat_minor": 0,
 "metadata": {
  "colab": {
   "provenance": []
  },
  "kernelspec": {
   "name": "python3",
   "display_name": "Python 3"
  },
  "language_info": {
   "name": "python"
  }
 },
 "cells": [
  {
   "cell_type": "markdown",
   "source": [
    "# Lab 12: Robust Optimization \n",
    "In this lab, we will see some applications of robust optimization, namely a modified version of the Knapsack 0/1 problem, and the portfolio optimization problem.\n",
    "\n",
    "Your job in this lab is to implement the missing functions, and study how different functions lead to different outcomes from both the point of view of the objective value and the probability of violating the constraints of the problem.\n",
    "\n",
    "The examples are taken from https://xiongpengnus.github.io/rsome/ro_rsome, using the RSOME library for robust optimization."
   ],
   "metadata": {
    "id": "bzBaTl57V5mi"
   }
  },
  {
   "cell_type": "code",
   "execution_count": null,
   "outputs": [],
   "source": [
    "from rsome import ro\n",
    "from rsome import grb_solver\n",
    "\n",
    "import itertools as it\n",
    "import rsome as rs\n",
    "import numpy as np\n",
    "import numpy.random as rd\n",
    "import matplotlib.pyplot as plt"
   ],
   "metadata": {
    "collapsed": false
   }
  },
  {
   "cell_type": "code",
   "execution_count": null,
   "outputs": [],
   "source": [
    "def norms(ps):\n",
    "    d = np.linspace(-1.1, 1.1, 1000)\n",
    "    xx, yy = np.meshgrid(d, d)\n",
    "    l = 3\n",
    "    fig, axs = plt.subplots(1, len(ps), sharey=True, figsize=(len(ps) * l, l))\n",
    "    for (p, ax) in zip(ps, axs):\n",
    "        z = np.array([\n",
    "            [\n",
    "                np.linalg.norm([xi, yi], p)\n",
    "                for (xi, yi)\n",
    "                in zip(x, y)\n",
    "            ]\n",
    "            for (x, y)\n",
    "            in zip(xx, yy)\n",
    "        ])\n",
    "        cs = ax.contour(xx, yy, z, levels=np.linspace(-1, 1, 11))\n",
    "        ax.clabel(cs, inline=True, fontsize=10)\n",
    "        ax.set_xlim([-1.1, 1.1])\n",
    "        ax.set_ylim([-1.1, 1.1])\n",
    "        ax.set_title(f'norm {p}')\n",
    "\n",
    "    fig.subplots_adjust(wspace=0, hspace=0)\n",
    "    fig.savefig('out/norms.svg')\n",
    "\n",
    "\n",
    "norms([1, 2, np.infty])"
   ],
   "metadata": {
    "collapsed": false
   }
  },
  {
   "cell_type": "markdown",
   "source": [
    "# The Knapsack 0/1 Problem\n",
    "In this exercise, we will solve the Knapsack problem (seen in the previous labs), slightly modified in order to have uncertainties about the volumes of the items.\n",
    "\n",
    "The uncertainty about the volumes is not the same for all the items. They are defined by $\\delta$, defined as a fraction of the size of the volumes of the items.\n",
    "\n",
    "In this exercise, you are asked to implement the definition of the uncertainty set in order to have both an **ellipsoidal** uncertainty set and a **finite** uncertainty set.\n",
    "\n",
    "Try to implement different sizes for the ellipsoid and different interval for the finite set and compare the objective values and the probability of violating the constraints with the different setups."
   ],
   "metadata": {
    "collapsed": false
   }
  },
  {
   "cell_type": "code",
   "execution_count": null,
   "outputs": [],
   "source": [
    "items = [\n",
    "    {'name': 'apple', 'value': 1, 'volume': 2},\n",
    "    {'name': 'pear', 'value': 2, 'volume': 2},\n",
    "    {'name': 'banana', 'value': 2, 'volume': 2},\n",
    "    {'name': 'watermelon', 'value': 5, 'volume': 10},\n",
    "    {'name': 'orange', 'value': 3, 'volume': 2},\n",
    "    {'name': 'avocado', 'value': 3, 'volume': 2},\n",
    "    {'name': 'blueberry', 'value': 3, 'volume': 1},\n",
    "    {'name': 'coconut', 'value': 4, 'volume': 3},\n",
    "    {'name': 'cherry', 'value': 2, 'volume': 1},\n",
    "    {'name': 'apricot', 'value': 1, 'volume': 1},\n",
    "]\n",
    "\n",
    "items.sort(key=lambda x: x['value'])\n",
    "\n",
    "N = len(items)\n",
    "b = 10  # budget\n",
    "\n",
    "c = np.array([i['value'] for i in items]).flatten()  # profit coefficients\n",
    "w = np.array([i['volume'] for i in items]).flatten()  # profit coefficients\n",
    "\n",
    "delta = 0.2 * w  # maximum deviations"
   ],
   "metadata": {
    "collapsed": false
   }
  },
  {
   "cell_type": "code",
   "execution_count": null,
   "outputs": [],
   "source": [
    "fig, ax = plt.subplots()\n",
    "ax.yaxis.tick_right()\n",
    "ax.set_yticks(range(len(items)))\n",
    "ax.set_yticklabels([f\"{i['value']} : {i['name']}\" for i in items])\n",
    "ax.errorbar(w, range(len(items)), xerr=delta, capsize=5, fmt='.k')\n",
    "fig.savefig('out/knapsack.svg')"
   ],
   "metadata": {
    "collapsed": false
   }
  },
  {
   "cell_type": "code",
   "execution_count": null,
   "outputs": [],
   "source": [
    "def robust(uncertainty_set):\n",
    "    \"\"\"\n",
    "    The function robust implements the robust optimization model,\n",
    "    given the budget of uncertainty r\n",
    "    \"\"\"\n",
    "\n",
    "    model = rs.ro.Model('robust')\n",
    "    # Boolean variable x (F: leave, T: keep)\n",
    "    x = model.dvar(N, vtype='B')\n",
    "    # Random variable\n",
    "    z = model.rvar(N)\n",
    "\n",
    "    # Uncertainty set\n",
    "    z_set = uncertainty_set(z)\n",
    "    # Maximize the value of the knapsack (i.e., the dot product between the values and x)\n",
    "    model.max(c @ x)\n",
    "\n",
    "    # Add constraint: the maximum (uncertain) volume is smaller than the budget\n",
    "    model.st(((w + z * delta) @ x <= b).forall(z_set))\n",
    "\n",
    "    # Solve\n",
    "    model.solve(rs.grb_solver, display=False)\n",
    "\n",
    "    # Return the optimal objective and solution\n",
    "    return model.get(), x.get()\n",
    "\n",
    "\n",
    "def sim(x_sol, zs):\n",
    "    \"\"\"\n",
    "    The function sim is for calculating the probability of violation\n",
    "    via simulations.\n",
    "        x_sol: solution of the Knapsack problem\n",
    "        zs: random sample of the random variable z\n",
    "    \"\"\"\n",
    "\n",
    "    ws = w + zs * delta  # random samples of uncertain weights\n",
    "\n",
    "    # did not respect the budget constraint\n",
    "    # true / n\n",
    "    return (ws @ x_sol > b).mean()"
   ],
   "metadata": {
    "collapsed": false
   }
  },
  {
   "cell_type": "code",
   "execution_count": null,
   "outputs": [],
   "source": [
    "# z is the U in the slide\n",
    "# z * delta uncertain area\n",
    "\n",
    "ellipsoidal = lambda z: (rs.norm(z, 2) <= 1.25)\n",
    "\n",
    "finite_set = lambda z: (z == 0)\n",
    "\n",
    "infinite_set = lambda z: (z <= 0.5)"
   ],
   "metadata": {
    "collapsed": false
   }
  },
  {
   "cell_type": "code",
   "execution_count": null,
   "outputs": [],
   "source": [
    "num_samples = 20000\n",
    "# Generate random samples for z\n",
    "zs = np.random.uniform(-1, 1, (num_samples, N))\n",
    "\n",
    "objective_value, solution = robust(infinite_set)\n",
    "prob_violation = sim(solution, zs)\n",
    "\n",
    "print(dict(zip([item['name'] for item in items], [x > 0 for x in solution])))\n",
    "print(f'TOT: {objective_value}')\n",
    "print(f'P of violation: {prob_violation}')"
   ],
   "metadata": {
    "collapsed": false
   }
  },
  {
   "cell_type": "markdown",
   "source": [
    "# Robust Portfolio Optimization\n",
    "In this problem, we want to build a portfolio (e.g., of stocks), by using robust approaches.\n",
    "\n",
    "To be more specific, in this problem we have a set of fictionary stocks, each of which has different means and deviations for the returns.\n",
    "\n",
    "Your job here is to implement a **box** uncertainty set to robustly optimize the portfolio.\n",
    "Try different values for the box in order to study how the uncertainty affects the objective value of and the number of different stocks chosen."
   ],
   "metadata": {
    "id": "h4GB-KCkfEXB"
   }
  },
  {
   "cell_type": "code",
   "source": [
    "n = 10  # number of stocks\n",
    "\n",
    "stocks = {\n",
    "    f'Company {chr(65 + i)}': {'Mean': np.around(np.random.uniform(0.9, 1.1), 2),\n",
    "                               'Deviation': np.around(np.random.uniform(0.1, 0.3), 2)}\n",
    "    for i in range(n)\n",
    "}"
   ],
   "metadata": {
    "colab": {
     "base_uri": "https://localhost:8080/"
    },
    "id": "-iVxdGRMfvDQ",
    "outputId": "6dbb7290-59d7-430d-d298-77a302083398"
   },
   "execution_count": null,
   "outputs": []
  },
  {
   "cell_type": "code",
   "execution_count": null,
   "outputs": [],
   "source": [
    "def portfolio_optimization(uncertainty_set):\n",
    "    p = np.array([stocks[s]['Mean'] for s in stocks])  # mean returns\n",
    "    delta = np.array([stocks[s]['Deviation'] for s in stocks])  # deviations of returns\n",
    "\n",
    "    model = rs.ro.Model()\n",
    "    x = model.dvar(n)  # fractions of investment\n",
    "    z = model.rvar(n)  # random variables\n",
    "\n",
    "    z_set = uncertainty_set(z)\n",
    "\n",
    "    model.maxmin(\n",
    "        (p + delta * z) @ x,  # the max-min objective\n",
    "        z_set\n",
    "    )\n",
    "\n",
    "    model.st(sum(x) == 1)  # summation of x is one\n",
    "    model.st(x >= 0)  # x is non-negative\n",
    "\n",
    "    model.solve(rs.grb_solver)  # solve the model by Gurobi\n",
    "    return model.get(), x.get()"
   ],
   "metadata": {
    "collapsed": false
   }
  },
  {
   "cell_type": "code",
   "execution_count": null,
   "outputs": [],
   "source": [
    "us = [('Z2', lambda z: (rs.norm(z, 1) <= 2, rs.norm(z, np.infty) <= 1))\n",
    "    , ('Z2L', lambda z: (rs.norm(z, 1) <= 2, rs.norm(z, np.infty) <= 1, z <= 0))\n",
    "    , ('Z2G', lambda z: (rs.norm(z, 1) <= 2, rs.norm(z, np.infty) <= 1, z >= -0.5))\n",
    "    , ('Z5', lambda z: (rs.norm(z, 1) <= 5, rs.norm(z, np.infty) <= 1))\n",
    "    , ('Z5L', lambda z: (rs.norm(z, 1) <= 5, rs.norm(z, np.infty) <= 1, z <= 0))\n",
    "    , ('Z5G', lambda z: (rs.norm(z, 1) <= 5, rs.norm(z, np.infty) <= 1, z >= -0.5))\n",
    "    , ('Z8', lambda z: (rs.norm(z, 1) <= 8, rs.norm(z, np.infty) <= 1))\n",
    "    , ('Z8L', lambda z: (rs.norm(z, 1) <= 8, rs.norm(z, np.infty) <= 1, z <= 0))\n",
    "    , ('Z8G', lambda z: (rs.norm(z, 1) <= 8, rs.norm(z, np.infty) <= 1, z >= -0.5))\n",
    "      ]"
   ],
   "metadata": {
    "collapsed": false
   }
  },
  {
   "cell_type": "code",
   "execution_count": null,
   "outputs": [],
   "source": [
    "layout = [\n",
    "    [0, 0, 0]\n",
    "    , [1, 2, 3]\n",
    "    , [4, 5, 6]\n",
    "    , [7, 8, 9]\n",
    "]\n",
    "\n",
    "fig, axs = plt.subplot_mosaic(layout, figsize=(5 * 3, 5 * 4))\n",
    "\n",
    "ax = axs[0]\n",
    "ax.yaxis.tick_right()\n",
    "ax.set_yticks(range(len(items)))\n",
    "ax.set_yticklabels([s.split(' ')[1] for s in stocks])\n",
    "ax.errorbar([stocks[s]['Mean'] for s in stocks], range(len(stocks)), xerr=[stocks[s]['Deviation'] for s in stocks],\n",
    "            capsize=5, fmt='.k')\n",
    "ax.tick_params(top=False, bottom=True, left=False, right=False, labelleft=False, labelbottom=True)\n",
    "\n",
    "for i, x in enumerate([stocks[s] for s in stocks]):\n",
    "    ax.annotate(f'{x[\"Mean\"]} \\u00B1 {x[\"Deviation\"]}', (x['Mean'], i), textcoords=\"offset points\", xytext=(0, 8))\n",
    "\n",
    "ax.invert_yaxis()\n",
    "ax.spines['top'].set_visible(False)\n",
    "ax.spines['right'].set_visible(True)\n",
    "ax.spines['bottom'].set_visible(True)\n",
    "ax.spines['left'].set_visible(False)\n",
    "\n",
    "for i, (name, u) in enumerate(us):\n",
    "    bx = axs[i]\n",
    "    obj_val, x_sol = portfolio_optimization(u)\n",
    "    print('Objective value: {0:0.4f}'.format(obj_val))\n",
    "\n",
    "    recipe = [s.split(' ')[1] + ' : ' + '{:.0f}'.format(x * 100) for s, x in zip(stocks, x_sol)]\n",
    "    data = [x for x in x_sol]\n",
    "\n",
    "    wedges, texts = bx.pie(data, wedgeprops=dict(width=0.5), startangle=-40)\n",
    "\n",
    "    bx.set_title(name)\n",
    "    bx.text(0, 0, '{:.2f}'.format(obj_val), ha='center', va='center')\n",
    "    bbox_props = dict(boxstyle=\"square,pad=0.3\", fc=\"w\", ec=\"k\", lw=0.72)\n",
    "    kw = dict(arrowprops=dict(arrowstyle=\"-\"), bbox=bbox_props, zorder=0, va=\"center\")\n",
    "\n",
    "    for (i, p), f in zip(enumerate(wedges), x_sol):\n",
    "        ang = (p.theta2 - p.theta1) / 2. + p.theta1\n",
    "        y = np.sin(np.deg2rad(ang))\n",
    "        x = np.cos(np.deg2rad(ang))\n",
    "        horizontalalignment = {-1: \"right\", 1: \"left\"}[int(np.sign(x))]\n",
    "        connectionstyle = \"angle,angleA=0,angleB={}\".format(ang)\n",
    "        kw[\"arrowprops\"].update({\"connectionstyle\": connectionstyle})\n",
    "        bx.annotate(\n",
    "            recipe[i],\n",
    "            xy=(x, y),\n",
    "            xytext=(1.35 * np.sign(x), 1.4 * y),\n",
    "            horizontalalignment=horizontalalignment,\n",
    "            **kw\n",
    "        )\n",
    "\n",
    "fig.subplots_adjust(wspace=0.5)\n",
    "fig.savefig(f'out/portfolio.svg')"
   ],
   "metadata": {
    "collapsed": false
   }
  }
 ]
}
