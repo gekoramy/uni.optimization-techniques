{
 "nbformat": 4,
 "nbformat_minor": 0,
 "metadata": {
  "colab": {
   "provenance": [],
   "collapsed_sections": []
  },
  "kernelspec": {
   "name": "python3",
   "display_name": "Python 3"
  },
  "language_info": {
   "name": "python"
  }
 },
 "cells": [
  {
   "cell_type": "markdown",
   "source": [
    "# Optimization techniques Lab. 4: (Reduced) Variable Neighborhood Search\n",
    "## Introduction\n",
    "**Goal.** The goal of this lab is to compare the behavior of VNS and RVNS on the knapsack 0/1 problem.\n",
    "\n",
    "**Getting started.** The following cells contain the implementation of the methods that we will use throughout this lab, together with utilities.\n",
    "\n",
    "## The Knapsack 0/1 problem\n",
    "The knapsack 0/1 problem is a combinatorial problem that works as follows.\n",
    "\n",
    "We have a bag with limited capacity L, and we have a set of items $I = {i_1, ..., i_N}$\n",
    "Each $i_j$ has a given volume $w_{i_j}$ and a value $v_{i_j}$.\n",
    "The goal of the optimization problem is to fill the bag with a combination of items $S$ such that the combination maximizes the total value contained by the bag while complaining with the constraint on the capacity.\n",
    "\n",
    "In this version of the knapsack problem we can either discard or carry (at most 1) item. Thus, the search space is $\\{0, 1\\}^{|I|}$.\n",
    "\n",
    "Since this is a maximization problem, we can turn it into a minimization problem by returning the opposite of the value.\n",
    "If a solution is not feasible (i.e., exceeds the maximum volume) the function will return a score of 0 (like an empty bag)."
   ],
   "metadata": {
    "id": "eK4fQ2q-Xcx1"
   }
  },
  {
   "cell_type": "code",
   "execution_count": null,
   "outputs": [],
   "source": [
    "import random\n",
    "import itertools as it\n",
    "\n",
    "from matplotlib import pyplot as plt\n",
    "from typing import Callable, List, Tuple\n",
    "from collections import Counter"
   ],
   "metadata": {
    "collapsed": false
   }
  },
  {
   "cell_type": "code",
   "execution_count": null,
   "outputs": [],
   "source": [
    "class Knapsack_0_1:\n",
    "\n",
    "    def __init__(self):\n",
    "        self._items = [\n",
    "            {'name': 'apricot', 'value': 1, 'volume': 1},\n",
    "            {'name': 'apple', 'value': 1, 'volume': 2},\n",
    "\n",
    "            {'name': 'cherry', 'value': 2, 'volume': 1},\n",
    "            {'name': 'pear', 'value': 2, 'volume': 2},\n",
    "            {'name': 'banana', 'value': 2, 'volume': 2},\n",
    "\n",
    "            {'name': 'blueberry', 'value': 3, 'volume': 1},\n",
    "            {'name': 'orange', 'value': 3, 'volume': 2},\n",
    "            {'name': 'avocado', 'value': 3, 'volume': 2},\n",
    "\n",
    "            {'name': 'coconut', 'value': 4, 'volume': 3},\n",
    "\n",
    "            {'name': 'watermelon', 'value': 5, 'volume': 10},\n",
    "        ]\n",
    "        self._BAG_CAPACITY = 10\n",
    "        self.history = []\n",
    "        self.values = []\n",
    "\n",
    "    def _get_value(self, solution):\n",
    "        cur_cap = self._BAG_CAPACITY\n",
    "        cur_val = 0\n",
    "        for i, v in enumerate(solution):\n",
    "            if v == 1:\n",
    "                cur_val += self._items[i]['value']\n",
    "                cur_cap -= self._items[i]['volume']\n",
    "            if cur_cap < 0:\n",
    "                return 0\n",
    "        return -cur_val\n",
    "\n",
    "    def __call__(self, solution):\n",
    "        value = self._get_value(solution)\n",
    "        self.history.append(solution)\n",
    "        self.values.append(value)\n",
    "        return value\n",
    "\n",
    "    def trend(self, path):\n",
    "        # 4 + 3 + 2 + 1 + 3 + 3 = 16\n",
    "        # 3 + 1 + 1 + 1 + 2 + 2 = 10\n",
    "        plt.figure()\n",
    "        plt.plot(self.values)\n",
    "        plt.axhline(-16, color=\"r\", label=\"optimum\")\n",
    "        if path is None:\n",
    "            plt.show()\n",
    "        else:\n",
    "            plt.savefig(path, dpi=400)\n",
    "        plt.close()"
   ],
   "metadata": {
    "collapsed": false
   }
  },
  {
   "cell_type": "code",
   "execution_count": null,
   "metadata": {
    "id": "hyHpT2yLjqsu"
   },
   "outputs": [],
   "source": [
    "def shake(\n",
    "        x: List[bool],\n",
    "        k: int,\n",
    "        bits: int\n",
    ") -> List[bool]:\n",
    "    ss = Counter(random.choices(range(len(x)), k=bits * k))\n",
    "    return [e if ss.get(i, 0) % 2 == 0 else not e for i, e in enumerate(x)]\n",
    "\n",
    "\n",
    "def move_or_not(\n",
    "        fn: Callable[[List[bool]], int],\n",
    "        x: List[bool],\n",
    "        xp: List[bool],\n",
    "        k: int\n",
    ") -> Tuple[List[bool], int]:\n",
    "    return (xp, 1) if fn(xp) < fn(x) else (x, k + 1)\n",
    "\n",
    "\n",
    "def local_search_best(\n",
    "        fn: Callable[[List[bool]], int],\n",
    "        x: List[bool],\n",
    "        bits: int\n",
    ") -> List[bool]:\n",
    "    xps = (\n",
    "        [e if i in s else not e for (i, e) in enumerate(x)]\n",
    "        for s\n",
    "        in it.chain.from_iterable(it.combinations(x, r) for r in range(bits + 1))\n",
    "    )\n",
    "    return min(xps, key=fn)\n",
    "\n",
    "\n",
    "def local_search_first(\n",
    "        fn: Callable[[List[bool]], int],\n",
    "        x: List[bool],\n",
    "        bits: int\n",
    ") -> List[bool]:\n",
    "    xps = (\n",
    "        [e if i in s else not e for (i, e) in enumerate(x)]\n",
    "        for s\n",
    "        in it.chain.from_iterable(it.combinations(x, r + 1) for r in range(bits))\n",
    "    )\n",
    "    fnx = fn(x)\n",
    "    return next(filter(lambda xp: fn(xp) < fnx, xps), x)\n",
    "\n",
    "\n",
    "def vns(\n",
    "        fn: Callable[[List[bool]], int],\n",
    "        x0: List[bool],\n",
    "        kmax: int,\n",
    "        local_search: Callable[[Callable[[List[bool]], int], List[bool], int], List[bool]],\n",
    "        shake_bits: int,\n",
    "        search_bits: int,\n",
    ") -> None:\n",
    "    \"\"\"\n",
    "    Seeks for the minimum of the function by means of the Variable Neighborhood\n",
    "    Search algorithm.\n",
    "\n",
    "    :f: the function to optimize\n",
    "    :x0: the initial point\n",
    "    :kmax: the max number of iterations for each neighborhood\n",
    "    \"\"\"\n",
    "    x = [e for e in x0]\n",
    "    k = 0\n",
    "    while k < kmax:\n",
    "        x, k = move_or_not(fn, x, local_search(fn, shake(x, k, shake_bits), search_bits), k)\n",
    "\n",
    "\n",
    "def rvns(\n",
    "        fn: Callable[[List[bool]], int],\n",
    "        x0: List[bool],\n",
    "        kmax: int,\n",
    "        shake_bits: int,\n",
    ") -> None:\n",
    "    \"\"\"\n",
    "    Seeks for the minimum of the function by means of the Reduced Variable\n",
    "    Neighborhood Search algorithm.\n",
    "\n",
    "    :f: the function to optimize\n",
    "    :x0: the initial point\n",
    "    :kmax: the max number of iterations for each neighborhood\n",
    "    \"\"\"\n",
    "    x = [e for e in x0]\n",
    "    k = 0\n",
    "    while k < kmax:\n",
    "        x, k = move_or_not(fn, x, shake(x, k, shake_bits), k)"
   ]
  },
  {
   "cell_type": "markdown",
   "source": [
    "# Variable Neighborhood Search\n",
    "---\n",
    "## Questions:\n",
    "- how does the starting point influence the search process?\n",
    "- how does the kmax parameter affect the quality of the result?\n",
    "- how does the generation of the neighborhood affect:\n",
    "    - quality of the search?\n",
    "    - velocity of the search?"
   ],
   "metadata": {
    "id": "B8swyFr8AYZx"
   }
  },
  {
   "cell_type": "code",
   "source": [
    "x0s = [[False] * 10, [i % 2 != 0 for i in range(10)]]\n",
    "\n",
    "for x0 in x0s + [[not e for e in x0] for x0 in x0s]:\n",
    "    for kmax in [75]:\n",
    "        for shake_bits in [1, 2, 3]:\n",
    "            for search_bits in range(1, shake_bits):\n",
    "                for name, local_search in [('first', local_search_first), ('best', local_search_best)]:\n",
    "                    random.seed(7)\n",
    "                    func = Knapsack_0_1()\n",
    "                    vns(\n",
    "                        fn=func,\n",
    "                        x0=x0,\n",
    "                        kmax=kmax,\n",
    "                        local_search=local_search,\n",
    "                        shake_bits=shake_bits,\n",
    "                        search_bits=search_bits\n",
    "                    )\n",
    "                    func.trend(f'out/{name} x0 : {x0} kmax : {kmax} shake : {shake_bits} search : {search_bits}.svg')"
   ],
   "metadata": {
    "id": "KNEsNnVYuzE0"
   },
   "execution_count": null,
   "outputs": []
  },
  {
   "cell_type": "markdown",
   "source": [
    "# Reduced Variable Neighborhood Search\n",
    "---\n",
    "## Questions:\n",
    "- how does the starting point influence the search process?\n",
    "- how does the kmax parameter affect the quality of the result?\n",
    "- how does the generation of the neighborhood affect:\n",
    "    - quality of the search?\n",
    "    - velocity of the search?\n",
    "- how does RVNS compare to VNS?"
   ],
   "metadata": {
    "id": "dzw4lTn9A5MK"
   }
  },
  {
   "cell_type": "code",
   "source": [
    "x0s = [[False] * 10, [i % 2 != 0 for i in range(10)]]\n",
    "\n",
    "for x0 in x0s + [[not e for e in x0] for x0 in x0s]:\n",
    "    for kmax in map(lambda i: 10 * i, [75]):\n",
    "        for shake_bits in [1, 2, 3]:\n",
    "            random.seed(7)\n",
    "            func = Knapsack_0_1()\n",
    "            rvns(\n",
    "                fn=func,\n",
    "                x0=x0,\n",
    "                kmax=kmax,\n",
    "                shake_bits=shake_bits\n",
    "            )\n",
    "            func.trend(f'out/x0 : {x0} kmax : {kmax} shake : {shake_bits}.svg')"
   ],
   "metadata": {
    "id": "BvgDws2pckDf"
   },
   "execution_count": null,
   "outputs": []
  }
 ]
}
